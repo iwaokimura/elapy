{
 "cells": [
  {
   "cell_type": "code",
   "execution_count": 1,
   "metadata": {
    "colab": {
     "base_uri": "https://localhost:8080/"
    },
    "executionInfo": {
     "elapsed": 9264,
     "status": "ok",
     "timestamp": 1729733270599,
     "user": {
      "displayName": "Makito Oku",
      "userId": "14067461782080780047"
     },
     "user_tz": -540
    },
    "id": "kSdQKlpFHMHx",
    "outputId": "785b7b0e-4b8d-49a3-d8ab-009693de06ea"
   },
   "outputs": [],
   "source": [
    "# Step 1: Initial settings\n",
    "# %cd /content/\n",
    "# !rm -rf elapy\n",
    "#!git clone https://github.com/okumakito/elapy.git\n",
    "#%cd ./elapy/\n",
    "import elapy as ela"
   ]
  },
  {
   "cell_type": "code",
   "execution_count": 2,
   "metadata": {
    "executionInfo": {
     "elapsed": 303,
     "status": "ok",
     "timestamp": 1729733272645,
     "user": {
      "displayName": "Makito Oku",
      "userId": "14067461782080780047"
     },
     "user_tz": -540
    },
    "id": "I0UsuD7IW9bA"
   },
   "outputs": [],
   "source": [
    "# Step 2: Load data\n",
    "#   * {0,1}-valued matrix\n",
    "#   * pandas DataFrame object\n",
    "#   * rows are varibles\n",
    "#   * columns are observations or time points\n",
    "\n",
    "# load test data\n",
    "data = ela.load_testdata(1)"
   ]
  },
  {
   "cell_type": "code",
   "execution_count": 7,
   "metadata": {},
   "outputs": [
    {
     "data": {
      "text/html": [
       "<div>\n",
       "<style scoped>\n",
       "    .dataframe tbody tr th:only-of-type {\n",
       "        vertical-align: middle;\n",
       "    }\n",
       "\n",
       "    .dataframe tbody tr th {\n",
       "        vertical-align: top;\n",
       "    }\n",
       "\n",
       "    .dataframe thead th {\n",
       "        text-align: right;\n",
       "    }\n",
       "</style>\n",
       "<table border=\"1\" class=\"dataframe\">\n",
       "  <thead>\n",
       "    <tr style=\"text-align: right;\">\n",
       "      <th></th>\n",
       "      <th>0</th>\n",
       "      <th>1</th>\n",
       "      <th>2</th>\n",
       "      <th>3</th>\n",
       "      <th>4</th>\n",
       "      <th>5</th>\n",
       "      <th>6</th>\n",
       "      <th>7</th>\n",
       "      <th>8</th>\n",
       "      <th>9</th>\n",
       "      <th>...</th>\n",
       "      <th>2380</th>\n",
       "      <th>2381</th>\n",
       "      <th>2382</th>\n",
       "      <th>2383</th>\n",
       "      <th>2384</th>\n",
       "      <th>2385</th>\n",
       "      <th>2386</th>\n",
       "      <th>2387</th>\n",
       "      <th>2388</th>\n",
       "      <th>2389</th>\n",
       "    </tr>\n",
       "    <tr>\n",
       "      <th>0</th>\n",
       "      <th></th>\n",
       "      <th></th>\n",
       "      <th></th>\n",
       "      <th></th>\n",
       "      <th></th>\n",
       "      <th></th>\n",
       "      <th></th>\n",
       "      <th></th>\n",
       "      <th></th>\n",
       "      <th></th>\n",
       "      <th></th>\n",
       "      <th></th>\n",
       "      <th></th>\n",
       "      <th></th>\n",
       "      <th></th>\n",
       "      <th></th>\n",
       "      <th></th>\n",
       "      <th></th>\n",
       "      <th></th>\n",
       "      <th></th>\n",
       "      <th></th>\n",
       "    </tr>\n",
       "  </thead>\n",
       "  <tbody>\n",
       "    <tr>\n",
       "      <th>left aPFC</th>\n",
       "      <td>1</td>\n",
       "      <td>1</td>\n",
       "      <td>1</td>\n",
       "      <td>1</td>\n",
       "      <td>1</td>\n",
       "      <td>1</td>\n",
       "      <td>0</td>\n",
       "      <td>0</td>\n",
       "      <td>0</td>\n",
       "      <td>0</td>\n",
       "      <td>...</td>\n",
       "      <td>0</td>\n",
       "      <td>1</td>\n",
       "      <td>1</td>\n",
       "      <td>1</td>\n",
       "      <td>1</td>\n",
       "      <td>1</td>\n",
       "      <td>1</td>\n",
       "      <td>1</td>\n",
       "      <td>1</td>\n",
       "      <td>1</td>\n",
       "    </tr>\n",
       "    <tr>\n",
       "      <th>right aPFC</th>\n",
       "      <td>0</td>\n",
       "      <td>0</td>\n",
       "      <td>0</td>\n",
       "      <td>0</td>\n",
       "      <td>0</td>\n",
       "      <td>0</td>\n",
       "      <td>0</td>\n",
       "      <td>0</td>\n",
       "      <td>1</td>\n",
       "      <td>1</td>\n",
       "      <td>...</td>\n",
       "      <td>0</td>\n",
       "      <td>0</td>\n",
       "      <td>0</td>\n",
       "      <td>1</td>\n",
       "      <td>1</td>\n",
       "      <td>1</td>\n",
       "      <td>1</td>\n",
       "      <td>1</td>\n",
       "      <td>1</td>\n",
       "      <td>1</td>\n",
       "    </tr>\n",
       "    <tr>\n",
       "      <th>left al/fO</th>\n",
       "      <td>1</td>\n",
       "      <td>1</td>\n",
       "      <td>1</td>\n",
       "      <td>0</td>\n",
       "      <td>0</td>\n",
       "      <td>0</td>\n",
       "      <td>0</td>\n",
       "      <td>0</td>\n",
       "      <td>0</td>\n",
       "      <td>0</td>\n",
       "      <td>...</td>\n",
       "      <td>1</td>\n",
       "      <td>1</td>\n",
       "      <td>1</td>\n",
       "      <td>1</td>\n",
       "      <td>1</td>\n",
       "      <td>1</td>\n",
       "      <td>1</td>\n",
       "      <td>1</td>\n",
       "      <td>1</td>\n",
       "      <td>1</td>\n",
       "    </tr>\n",
       "    <tr>\n",
       "      <th>right al/fO</th>\n",
       "      <td>0</td>\n",
       "      <td>0</td>\n",
       "      <td>0</td>\n",
       "      <td>1</td>\n",
       "      <td>1</td>\n",
       "      <td>1</td>\n",
       "      <td>1</td>\n",
       "      <td>1</td>\n",
       "      <td>1</td>\n",
       "      <td>1</td>\n",
       "      <td>...</td>\n",
       "      <td>1</td>\n",
       "      <td>1</td>\n",
       "      <td>1</td>\n",
       "      <td>1</td>\n",
       "      <td>1</td>\n",
       "      <td>1</td>\n",
       "      <td>1</td>\n",
       "      <td>1</td>\n",
       "      <td>1</td>\n",
       "      <td>1</td>\n",
       "    </tr>\n",
       "    <tr>\n",
       "      <th>dACC/msFC</th>\n",
       "      <td>1</td>\n",
       "      <td>1</td>\n",
       "      <td>1</td>\n",
       "      <td>1</td>\n",
       "      <td>1</td>\n",
       "      <td>0</td>\n",
       "      <td>0</td>\n",
       "      <td>0</td>\n",
       "      <td>0</td>\n",
       "      <td>0</td>\n",
       "      <td>...</td>\n",
       "      <td>0</td>\n",
       "      <td>0</td>\n",
       "      <td>0</td>\n",
       "      <td>1</td>\n",
       "      <td>1</td>\n",
       "      <td>1</td>\n",
       "      <td>1</td>\n",
       "      <td>1</td>\n",
       "      <td>1</td>\n",
       "      <td>1</td>\n",
       "    </tr>\n",
       "  </tbody>\n",
       "</table>\n",
       "<p>5 rows × 2390 columns</p>\n",
       "</div>"
      ],
      "text/plain": [
       "             0     1     2     3     4     5     6     7     8     9     ...  \\\n",
       "0                                                                        ...   \n",
       "left aPFC       1     1     1     1     1     1     0     0     0     0  ...   \n",
       "right aPFC      0     0     0     0     0     0     0     0     1     1  ...   \n",
       "left al/fO      1     1     1     0     0     0     0     0     0     0  ...   \n",
       "right al/fO     0     0     0     1     1     1     1     1     1     1  ...   \n",
       "dACC/msFC       1     1     1     1     1     0     0     0     0     0  ...   \n",
       "\n",
       "             2380  2381  2382  2383  2384  2385  2386  2387  2388  2389  \n",
       "0                                                                        \n",
       "left aPFC       0     1     1     1     1     1     1     1     1     1  \n",
       "right aPFC      0     0     0     1     1     1     1     1     1     1  \n",
       "left al/fO      1     1     1     1     1     1     1     1     1     1  \n",
       "right al/fO     1     1     1     1     1     1     1     1     1     1  \n",
       "dACC/msFC       0     0     0     1     1     1     1     1     1     1  \n",
       "\n",
       "[5 rows x 2390 columns]"
      ]
     },
     "execution_count": 7,
     "metadata": {},
     "output_type": "execute_result"
    }
   ],
   "source": [
    "data.head()"
   ]
  },
  {
   "cell_type": "code",
   "execution_count": 3,
   "metadata": {
    "colab": {
     "base_uri": "https://localhost:8080/"
    },
    "executionInfo": {
     "elapsed": 964,
     "status": "ok",
     "timestamp": 1729733275125,
     "user": {
      "displayName": "Makito Oku",
      "userId": "14067461782080780047"
     },
     "user_tz": -540
    },
    "id": "YnZmIV3YS48z",
    "outputId": "7b053e3d-ed73-44ee-cd69-654d018dde07"
   },
   "outputs": [
    {
     "name": "stdout",
     "output_type": "stream",
     "text": [
      "accuracy: 0.0 1.23036862303958e-16\n"
     ]
    }
   ],
   "source": [
    "# Step 3: Main calculation\n",
    "\n",
    "# Fit an Ising model to the data.\n",
    "h, W = ela.fit_exact(data)\n",
    "\n",
    "# Check fitting accuracy scores (1: best, 0: worst).\n",
    "acc1, acc2 = ela.calc_accuracy(h, W, data)\n",
    "print('accuracy:', acc1, acc2)\n",
    "\n",
    "# Calculate a basin graph.\n",
    "graph = ela.calc_basin_graph(h, W, data)\n",
    "\n",
    "# Calculate a disconnectivity graph.\n",
    "D = ela.calc_discon_graph(h, W, data, graph)\n",
    "\n",
    "# Calculate each state's frequency and transitions between states.\n",
    "freq, trans, trans2 = ela.calc_trans(data, graph)"
   ]
  },
  {
   "cell_type": "code",
   "execution_count": 4,
   "metadata": {
    "colab": {
     "base_uri": "https://localhost:8080/"
    },
    "executionInfo": {
     "elapsed": 18051,
     "status": "ok",
     "timestamp": 1729733296557,
     "user": {
      "displayName": "Makito Oku",
      "userId": "14067461782080780047"
     },
     "user_tz": -540
    },
    "id": "TEm2FRhytkco",
    "outputId": "e1ed4fba-aa0b-4804-d06b-d7e3eb3c1267"
   },
   "outputs": [
    {
     "name": "stderr",
     "output_type": "stream",
     "text": [
      "/Users/iwao/Docs/elapy/elapy/core.py:248: RuntimeWarning: overflow encountered in exp\n",
      "  Q = 1 / (1 + np.exp(-Y))  # shape: (m, n)\n"
     ]
    },
    {
     "name": "stdout",
     "output_type": "stream",
     "text": [
      "depth threshold: nan\n"
     ]
    },
    {
     "name": "stderr",
     "output_type": "stream",
     "text": [
      "/Users/iwao/Library/Python/3.8/lib/python/site-packages/numpy/lib/function_base.py:4573: RuntimeWarning: invalid value encountered in subtract\n",
      "  diff_b_a = subtract(b, a)\n"
     ]
    }
   ],
   "source": [
    "# Step 4: Optional calculation\n",
    "\n",
    "# Calculate transition matrix based on Boltzmann machine.\n",
    "P = ela.calc_trans_bm(h, W, data)\n",
    "\n",
    "# Calculate the depth threshold (Caution: this function is time consuming).\n",
    "n, k = data.shape\n",
    "th = ela.calc_depth_threshold(n, k)\n",
    "print('depth threshold:', th)"
   ]
  },
  {
   "cell_type": "code",
   "execution_count": null,
   "metadata": {
    "colab": {
     "base_uri": "https://localhost:8080/",
     "height": 1000
    },
    "executionInfo": {
     "elapsed": 9768,
     "status": "ok",
     "timestamp": 1729733309180,
     "user": {
      "displayName": "Makito Oku",
      "userId": "14067461782080780047"
     },
     "user_tz": -540
    },
    "id": "KJhs94piTGh1",
    "outputId": "22e0a63f-b252-468c-c35e-3b61cbfc81f7"
   },
   "outputs": [],
   "source": [
    "# Step 5: Plot results\n",
    "\n",
    "# Plot on-off patterns of each local minimum.\n",
    "ela.plot_local_min(data, graph)\n",
    "\n",
    "# Plot the basin graph.\n",
    "ela.plot_basin_graph(graph)\n",
    "\n",
    "# Plot the disconnectivity graph.\n",
    "ela.plot_discon_graph(D)\n",
    "\n",
    "# Plot a two-dimensional landscape.\n",
    "ela.plot_landscape(D)\n",
    "\n",
    "# Plot each state's frequency and transitions between states.\n",
    "ela.plot_trans(freq, trans, trans2)"
   ]
  },
  {
   "cell_type": "code",
   "execution_count": null,
   "metadata": {
    "colab": {
     "base_uri": "https://localhost:8080/",
     "height": 542
    },
    "executionInfo": {
     "elapsed": 1616,
     "status": "ok",
     "timestamp": 1729733324974,
     "user": {
      "displayName": "Makito Oku",
      "userId": "14067461782080780047"
     },
     "user_tz": -540
    },
    "id": "WBh8483Ks36U",
    "outputId": "6c9e3582-1b53-42ac-d032-14493f83bb66"
   },
   "outputs": [],
   "source": [
    "# Step 6: Plot results with Plotly\n",
    "\n",
    "# Plot a three-dimensional landscape.\n",
    "ela.plot_landscape3d(D)"
   ]
  }
 ],
 "metadata": {
  "colab": {
   "authorship_tag": "ABX9TyM7gZzXARy6amZ80r1NGGTc",
   "provenance": []
  },
  "kernelspec": {
   "display_name": "Python 3 (ipykernel)",
   "language": "python",
   "name": "python3"
  },
  "language_info": {
   "codemirror_mode": {
    "name": "ipython",
    "version": 3
   },
   "file_extension": ".py",
   "mimetype": "text/x-python",
   "name": "python",
   "nbconvert_exporter": "python",
   "pygments_lexer": "ipython3",
   "version": "3.8.2"
  }
 },
 "nbformat": 4,
 "nbformat_minor": 0
}
